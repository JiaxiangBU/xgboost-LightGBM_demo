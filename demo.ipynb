{
 "cells": [
  {
   "cell_type": "code",
   "execution_count": 3,
   "metadata": {},
   "outputs": [],
   "source": [
    "import json\n",
    "import lightgbm as lgb\n",
    "import pandas as pd\n",
    "from sklearn.metrics import mean_squared_error\n",
    "from pathlib import Path"
   ]
  },
  {
   "cell_type": "code",
   "execution_count": 4,
   "metadata": {},
   "outputs": [],
   "source": [
    "data_path = Path(\"LightGBM_examples/regression\")"
   ]
  },
  {
   "cell_type": "code",
   "execution_count": 6,
   "metadata": {},
   "outputs": [
    {
     "name": "stdout",
     "output_type": "stream",
     "text": [
      "Load data...\n"
     ]
    }
   ],
   "source": [
    "print('Load data...')\n",
    "df_train = pd.read_csv(data_path/'regression.train', header=None, sep='\\t')\n",
    "df_test = pd.read_csv(data_path/'regression.test', header=None, sep='\\t')"
   ]
  },
  {
   "cell_type": "code",
   "execution_count": 7,
   "metadata": {},
   "outputs": [],
   "source": [
    "y_train = df_train[0].values\n",
    "y_test = df_test[0].values\n",
    "X_train = df_train.drop(0, axis=1).values\n",
    "X_test = df_test.drop(0, axis=1).values"
   ]
  },
  {
   "cell_type": "code",
   "execution_count": 8,
   "metadata": {},
   "outputs": [],
   "source": [
    "lgb_train = lgb.Dataset(X_train, y_train)\n",
    "lgb_eval = lgb.Dataset(X_test, y_test, reference=lgb_train)"
   ]
  },
  {
   "cell_type": "code",
   "execution_count": 9,
   "metadata": {},
   "outputs": [],
   "source": [
    "params = {\n",
    "    'task': 'train',\n",
    "    'boosting_type': 'gbdt',\n",
    "    'objective': 'regression',\n",
    "    'metric': {'l2', 'auc'},\n",
    "    'num_leaves': 31,\n",
    "    'learning_rate': 0.05,\n",
    "    'feature_fraction': 0.9,\n",
    "    'bagging_fraction': 0.8,\n",
    "    'bagging_freq': 5,\n",
    "    'verbose': 0\n",
    "}"
   ]
  },
  {
   "cell_type": "code",
   "execution_count": 10,
   "metadata": {},
   "outputs": [
    {
     "name": "stdout",
     "output_type": "stream",
     "text": [
      "Start training...\n",
      "[1]\tvalid_0's l2: 0.243898\tvalid_0's auc: 0.721096\n",
      "Training until validation scores don't improve for 5 rounds\n",
      "[2]\tvalid_0's l2: 0.240605\tvalid_0's auc: 0.732932\n",
      "[3]\tvalid_0's l2: 0.236472\tvalid_0's auc: 0.773583\n",
      "[4]\tvalid_0's l2: 0.232586\tvalid_0's auc: 0.781089\n",
      "[5]\tvalid_0's l2: 0.22865\tvalid_0's auc: 0.787902\n",
      "[6]\tvalid_0's l2: 0.226187\tvalid_0's auc: 0.780565\n",
      "[7]\tvalid_0's l2: 0.223738\tvalid_0's auc: 0.786571\n",
      "[8]\tvalid_0's l2: 0.221012\tvalid_0's auc: 0.784918\n",
      "[9]\tvalid_0's l2: 0.218429\tvalid_0's auc: 0.784878\n",
      "[10]\tvalid_0's l2: 0.215505\tvalid_0's auc: 0.788917\n",
      "[11]\tvalid_0's l2: 0.213027\tvalid_0's auc: 0.791586\n",
      "[12]\tvalid_0's l2: 0.210809\tvalid_0's auc: 0.793884\n",
      "[13]\tvalid_0's l2: 0.208612\tvalid_0's auc: 0.796174\n",
      "[14]\tvalid_0's l2: 0.207468\tvalid_0's auc: 0.793731\n",
      "[15]\tvalid_0's l2: 0.206009\tvalid_0's auc: 0.794247\n",
      "[16]\tvalid_0's l2: 0.20465\tvalid_0's auc: 0.793715\n",
      "[17]\tvalid_0's l2: 0.202489\tvalid_0's auc: 0.797085\n",
      "[18]\tvalid_0's l2: 0.200668\tvalid_0's auc: 0.802615\n",
      "[19]\tvalid_0's l2: 0.19925\tvalid_0's auc: 0.802793\n",
      "[20]\tvalid_0's l2: 0.198136\tvalid_0's auc: 0.802615\n",
      "Did not meet early stopping. Best iteration is:\n",
      "[20]\tvalid_0's l2: 0.198136\tvalid_0's auc: 0.802615\n",
      "Save model...\n"
     ]
    },
    {
     "data": {
      "text/plain": [
       "<lightgbm.basic.Booster at 0x1422a1d0>"
      ]
     },
     "execution_count": 10,
     "metadata": {},
     "output_type": "execute_result"
    }
   ],
   "source": [
    "print('Start training...')\n",
    "gbm = lgb.train(params,\n",
    "                lgb_train,\n",
    "                num_boost_round=20,\n",
    "                valid_sets=lgb_eval,\n",
    "                early_stopping_rounds=5)\n",
    "\n",
    "print('Save model...')\n",
    "# save model to file\n",
    "gbm.save_model('model.txt')"
   ]
  },
  {
   "cell_type": "code",
   "execution_count": 11,
   "metadata": {},
   "outputs": [
    {
     "name": "stdout",
     "output_type": "stream",
     "text": [
      "Start predicting...\n",
      "The rmse of prediction is: 0.44512434910807497\n"
     ]
    }
   ],
   "source": [
    "print('Start predicting...')\n",
    "# predict\n",
    "y_pred = gbm.predict(X_test, num_iteration=gbm.best_iteration)\n",
    "# eval\n",
    "print('The rmse of prediction is:', mean_squared_error(y_test, y_pred) ** 0.5)"
   ]
  },
  {
   "cell_type": "code",
   "execution_count": null,
   "metadata": {},
   "outputs": [],
   "source": []
  }
 ],
 "metadata": {
  "kernelspec": {
   "display_name": "Python 3",
   "language": "python",
   "name": "python3"
  },
  "language_info": {
   "codemirror_mode": {
    "name": "ipython",
    "version": 3
   },
   "file_extension": ".py",
   "mimetype": "text/x-python",
   "name": "python",
   "nbconvert_exporter": "python",
   "pygments_lexer": "ipython3",
   "version": "3.7.3"
  }
 },
 "nbformat": 4,
 "nbformat_minor": 2
}
